{
 "cells": [
  {
<<<<<<< HEAD
<<<<<<< HEAD
<<<<<<< HEAD
<<<<<<< HEAD
=======
>>>>>>> 0d17426 (.....)
   "cell_type": "code",
   "execution_count": 15,
   "metadata": {},
   "outputs": [],
   "source": [
    "from node import Node"
   ]
  },
  {
   "cell_type": "markdown",
   "metadata": {},
   "source": [
    "# Instantiate our Nodes to Make a linked list!"
=======
<<<<<<< HEAD
=======
>>>>>>> 02779ca (Updated linked list title for cq)
=======
>>>>>>> 0d17426 (.....)
   "cell_type": "markdown",
   "metadata": {},
   "source": [
    "# Demonstrating a Linked List"
>>>>>>> 94bc7ae (.....)
   ]
  },
  {
   "cell_type": "code",
<<<<<<< HEAD
   "execution_count": 16,
   "metadata": {},
   "outputs": [],
   "source": [
    "node_c: Node = Node(2, None) # base case\n",
    "node_b: Node = Node(1, node_c)\n",
    "node_a: Node = Node(0, node_b) # head of list"
=======
   "execution_count": 1,
   "metadata": {},
   "outputs": [],
   "source": [
    "from node import Node\n",
    "\n",
    "node_c: Node = Node(2, None) # base case (ends recursion)\n",
    "node_b: Node = Node(1, node_c)\n",
    "node_a: Node = Node(0, node_b) \n"
>>>>>>> 94bc7ae (.....)
<<<<<<< HEAD
   ]
  },
  {
   "cell_type": "markdown",
   "metadata": {},
   "source": [
<<<<<<< HEAD
    "# Testing out accessing attributes\n"
=======
    "## Testing Out Accessing Attributes"
>>>>>>> 94bc7ae (.....)
   ]
  },
  {
   "cell_type": "code",
<<<<<<< HEAD
   "execution_count": 17,
=======
   "execution_count": 2,
>>>>>>> 94bc7ae (.....)
   "metadata": {},
=======
   "cell_type": "code",
   "execution_count": 1,
   "metadata": {},
>>>>>>> a09e08a (.....)
   "outputs": [
    {
     "name": "stdout",
     "output_type": "stream",
     "text": [
<<<<<<< HEAD
<<<<<<< HEAD
      "2\n",
      "None\n"
=======
      "1\n",
      "1\n",
      "2\n",
      "2\n",
      "2\n"
>>>>>>> 94bc7ae (.....)
=======
      "Actual:  1 -> 2 -> None  - Expected: 1 -> 2 -> None\n",
      "Actual:  None  - Expected: None\n"
>>>>>>> a09e08a (.....)
     ]
    }
   ],
   "source": [
<<<<<<< HEAD
<<<<<<< HEAD
    "print(node_a.next.next.data)\n",
    "print(node_a.next.next.next)"
   ]
  },
  {
   "cell_type": "markdown",
   "metadata": {},
   "source": [
    "## Testing Out `__str__` method"
=======
    "print(node_b.data)\n",
    "print(node_a.next.data)\n",
    "print(node_c.data)\n",
    "print(node_b.next.data)\n",
    "print(node_a.next.next.data)"
<<<<<<< HEAD
>>>>>>> 94bc7ae (.....)
=======
=======
   "cell_type": "code",
   "execution_count": 15,
   "metadata": {},
   "outputs": [],
   "source": [
=======
>>>>>>> a09e08a (.....)
    "from node import Node"
   ]
  },
  {
   "cell_type": "markdown",
   "metadata": {},
   "source": [
    "# Instantiate our Nodes to Make a linked list!"
<<<<<<< HEAD
>>>>>>> 8b40a10 (Updated linked list title for cq)
>>>>>>> 02779ca (Updated linked list title for cq)
=======
>>>>>>> a09e08a (.....)
   ]
  },
  {
   "cell_type": "code",
<<<<<<< HEAD
<<<<<<< HEAD
<<<<<<< HEAD
<<<<<<< HEAD
   "execution_count": 18,
   "metadata": {},
   "outputs": [
    {
     "name": "stdout",
     "output_type": "stream",
     "text": [
      "0 -> 1 -> 2 -> None\n"
     ]
    }
   ],
   "source": [
    "print(node_a)"
   ]
  },
  {
   "cell_type": "markdown",
   "metadata": {},
   "source": [
    "# `head()` method\n",
    "\n",
    "## Part 0. \n",
    "\n",
    "You are going to create a method called `head()` with the following properties:\n",
    "\n",
    "* It takes no arguments (other than `self`)\n",
    "* It returns an `int`\n",
    "* Behavior: It should return the `data` attribute for the first element in the linked list\n"
   ]
  },
  {
   "cell_type": "code",
   "execution_count": 19,
   "metadata": {},
   "outputs": [
    {
     "name": "stdout",
     "output_type": "stream",
     "text": [
      "Actual:  None  - Expected: 0\n"
     ]
    }
   ],
   "source": [
    "print(\"Actual: \", node_a.head(), \" - Expected: 0\")"
   ]
  },
  {
   "cell_type": "markdown",
   "metadata": {},
   "source": [
    "# `tail()` method\n",
    "\n",
    "## Part 1. \n",
    "\n",
    "You are going to create a method called `tail()` with the following properties:\n",
    "\n",
    "* It takes no arguments (other than `self`)\n",
    "* It returns an `Node` object (or `None` if linked list is of length 1)\n",
    "* Behavior: It should return a linked list of every element minus the head."
   ]
  },
  {
   "cell_type": "code",
   "execution_count": 20,
   "metadata": {},
   "outputs": [
    {
     "name": "stdout",
     "output_type": "stream",
     "text": [
      "Actual:  None  - Expected: 1 -> 2 -> None\n",
      "Actual:  None  - Expected: None\n"
     ]
    }
   ],
   "source": [
    "print(\"Actual: \", node_a.tail(), \" - Expected: 1 -> 2 -> None\")\n",
    "print(\"Actual: \", node_c.tail(), \" - Expected: None\")"
   ]
  },
  {
   "cell_type": "markdown",
   "metadata": {},
   "source": [
    "# `list()` method\n",
    "\n",
    "## Part 2. \n",
    "\n",
    "You are going to create a method called `last()` with the following properties:\n",
    "\n",
    "* It takes no arguments (other than `self`)\n",
    "* It returns an `int` object\n",
    "* Behavior: It should return the `data` of the *last* element in the linked list. (Hint: Look at `__str__`!)"
   ]
  },
  {
   "cell_type": "code",
   "execution_count": 21,
   "metadata": {},
   "outputs": [
    {
     "name": "stdout",
     "output_type": "stream",
     "text": [
      "Actual:  None  - Expected: 2\n"
     ]
    }
   ],
   "source": [
    "print(\"Actual: \", node_a.last(), \" - Expected: 2\")"
=======
   "execution_count": 3,
=======
   "execution_count": 2,
>>>>>>> 2d6303a (Updated linked list documentation)
=======
   "execution_count": 16,
>>>>>>> c06492e (Updated linked list documentation)
   "metadata": {},
<<<<<<< HEAD
   "outputs": [
    {
     "data": {
      "text/plain": [
       "'0 -> 1 -> 2'"
      ]
     },
     "execution_count": 3,
     "metadata": {},
     "output_type": "execute_result"
    }
   ],
   "source": [
    "# node_a.pretty_list() returns 0 -> 1 -> 2 -> pretty_list(None)\n",
    "node_a.pretty_list()"
<<<<<<< HEAD
>>>>>>> 94bc7ae (.....)
=======
=======
   "outputs": [],
   "source": [
<<<<<<< HEAD
    "node_c = Node(2, None)\n",
    "node_b = Node(1, node_c)\n",
    "node_a = Node(0, node_b) #head of list"
=======
    "node_c: Node = Node(2, None) # base case\n",
    "node_b: Node = Node(1, node_c)\n",
    "node_a: Node = Node(0, node_b) # head of list"
=======
>>>>>>> 0d17426 (.....)
<<<<<<< HEAD
>>>>>>> 2041fa7 (.....)
=======
=======
   "execution_count": 2,
   "metadata": {},
   "outputs": [],
   "source": [
    "#head of list\n",
    "node_c: Node = Node(2, None) # base case\n",
    "node_b: Node = Node(1, node_c)\n",
    "node_a: Node = Node(0, node_b)"
>>>>>>> a09e08a (.....)
>>>>>>> 831a68c (.....)
   ]
  },
  {
   "cell_type": "markdown",
   "metadata": {},
   "source": [
<<<<<<< HEAD
<<<<<<< HEAD
    "# Testing out accessing attributes\n"
=======
    "## Testing Out Accessing Attributes"
>>>>>>> 94bc7ae (.....)
=======
    "# Testing out accessing attributes\n"
>>>>>>> a09e08a (.....)
   ]
  },
  {
   "cell_type": "code",
<<<<<<< HEAD
<<<<<<< HEAD
   "execution_count": 17,
=======
   "execution_count": 2,
>>>>>>> 94bc7ae (.....)
=======
   "execution_count": 3,
>>>>>>> a09e08a (.....)
   "metadata": {},
   "outputs": [
    {
     "name": "stdout",
     "output_type": "stream",
     "text": [
<<<<<<< HEAD
<<<<<<< HEAD
      "2\n",
      "None\n"
=======
      "1\n",
      "1\n",
      "2\n",
      "2\n",
      "2\n"
>>>>>>> 94bc7ae (.....)
=======
      "2\n",
      "None\n"
>>>>>>> a09e08a (.....)
     ]
    }
   ],
   "source": [
<<<<<<< HEAD
<<<<<<< HEAD
=======
>>>>>>> a09e08a (.....)
    "print(node_a.next.next.data)\n",
    "print(node_a.next.next.next)"
   ]
  },
  {
   "cell_type": "markdown",
   "metadata": {},
   "source": [
    "## Testing Out `__str__` method"
<<<<<<< HEAD
=======
    "print(node_b.data)\n",
    "print(node_a.next.data)\n",
    "print(node_c.data)\n",
    "print(node_b.next.data)\n",
    "print(node_a.next.next.data)"
>>>>>>> 94bc7ae (.....)
=======
>>>>>>> a09e08a (.....)
   ]
  },
  {
   "cell_type": "code",
<<<<<<< HEAD
<<<<<<< HEAD
   "execution_count": 18,
=======
   "execution_count": 4,
>>>>>>> a09e08a (.....)
   "metadata": {},
   "outputs": [
    {
     "name": "stdout",
     "output_type": "stream",
     "text": [
      "0 -> 1 -> 2 -> None\n"
     ]
    }
   ],
   "source": [
    "print(node_a)"
   ]
  },
  {
   "cell_type": "markdown",
   "metadata": {},
   "source": [
    "# `head()` method\n",
    "\n",
    "## Part 0. \n",
    "\n",
    "You are going to create a method called `head()` with the following properties:\n",
    "\n",
    "* It takes no arguments (other than `self`)\n",
    "* It returns an `int`\n",
    "* Behavior: It should return the `data` attribute for the first element in the linked list\n"
   ]
  },
  {
   "cell_type": "code",
<<<<<<< HEAD
   "execution_count": 19,
=======
   "execution_count": 5,
>>>>>>> a09e08a (.....)
   "metadata": {},
   "outputs": [
    {
     "name": "stdout",
     "output_type": "stream",
     "text": [
<<<<<<< HEAD
      "Actual:  None  - Expected: 0\n"
=======
      "Actual:  0  - Expected: 0\n"
>>>>>>> a09e08a (.....)
     ]
    }
   ],
   "source": [
    "print(\"Actual: \", node_a.head(), \" - Expected: 0\")"
   ]
  },
  {
   "cell_type": "markdown",
   "metadata": {},
   "source": [
    "# `tail()` method\n",
    "\n",
    "## Part 1. \n",
    "\n",
    "You are going to create a method called `tail()` with the following properties:\n",
    "\n",
    "* It takes no arguments (other than `self`)\n",
    "* It returns an `Node` object (or `None` if linked list is of length 1)\n",
    "* Behavior: It should return a linked list of every element minus the head."
   ]
  },
  {
   "cell_type": "code",
<<<<<<< HEAD
   "execution_count": 20,
=======
   "execution_count": 6,
>>>>>>> a09e08a (.....)
   "metadata": {},
   "outputs": [
    {
     "name": "stdout",
     "output_type": "stream",
     "text": [
<<<<<<< HEAD
      "Actual:  None  - Expected: 1 -> 2 -> None\n",
=======
      "Actual:  1 -> 2 -> None  - Expected: 1 -> 2 -> None\n",
>>>>>>> a09e08a (.....)
      "Actual:  None  - Expected: None\n"
     ]
    }
   ],
   "source": [
    "print(\"Actual: \", node_a.tail(), \" - Expected: 1 -> 2 -> None\")\n",
    "print(\"Actual: \", node_c.tail(), \" - Expected: None\")"
   ]
  },
  {
   "cell_type": "markdown",
   "metadata": {},
   "source": [
    "# `list()` method\n",
    "\n",
    "## Part 2. \n",
    "\n",
    "You are going to create a method called `last()` with the following properties:\n",
    "\n",
    "* It takes no arguments (other than `self`)\n",
    "* It returns an `int` object\n",
    "* Behavior: It should return the `data` of the *last* element in the linked list. (Hint: Look at `__str__`!)"
   ]
  },
  {
   "cell_type": "code",
<<<<<<< HEAD
   "execution_count": 21,
=======
   "execution_count": 7,
>>>>>>> a09e08a (.....)
   "metadata": {},
   "outputs": [
    {
     "name": "stdout",
     "output_type": "stream",
     "text": [
      "Actual:  None  - Expected: 2\n"
     ]
    }
   ],
   "source": [
    "print(\"Actual: \", node_a.last(), \" - Expected: 2\")"
<<<<<<< HEAD
<<<<<<< HEAD
>>>>>>> 8b40a10 (Updated linked list title for cq)
>>>>>>> 02779ca (Updated linked list title for cq)
=======
=======
   "execution_count": 3,
   "metadata": {},
   "outputs": [
    {
     "data": {
      "text/plain": [
       "'0 -> 1 -> 2'"
      ]
     },
     "execution_count": 3,
     "metadata": {},
     "output_type": "execute_result"
    }
   ],
   "source": [
    "# node_a.pretty_list() returns 0 -> 1 -> 2 -> pretty_list(None)\n",
    "node_a.pretty_list()"
>>>>>>> 94bc7ae (.....)
>>>>>>> 0d17426 (.....)
=======
>>>>>>> a09e08a (.....)
   ]
  }
 ],
 "metadata": {
  "kernelspec": {
   "display_name": "Python 3",
   "language": "python",
   "name": "python3"
  },
  "language_info": {
   "codemirror_mode": {
    "name": "ipython",
    "version": 3
   },
   "file_extension": ".py",
   "mimetype": "text/x-python",
   "name": "python",
   "nbconvert_exporter": "python",
   "pygments_lexer": "ipython3",
<<<<<<< HEAD
<<<<<<< HEAD
<<<<<<< HEAD
<<<<<<< HEAD
=======
>>>>>>> 0d17426 (.....)
   "version": "3.11.5"
  }
=======
   "version": "3.11.4"
  },
  "orig_nbformat": 4
>>>>>>> 94bc7ae (.....)
<<<<<<< HEAD
=======
   "version": "3.11.4"
  },
  "orig_nbformat": 4
=======
   "version": "3.11.5"
  }
>>>>>>> 8b40a10 (Updated linked list title for cq)
>>>>>>> 02779ca (Updated linked list title for cq)
=======
>>>>>>> 0d17426 (.....)
=======
   "version": "3.11.4"
  }
>>>>>>> a09e08a (.....)
 },
 "nbformat": 4,
 "nbformat_minor": 2
}
