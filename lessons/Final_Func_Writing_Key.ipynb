{
 "cells": [
  {
   "cell_type": "markdown",
   "metadata": {},
   "source": [
    "# Function Writing Practice #1"
   ]
  },
  {
   "cell_type": "code",
   "execution_count": 1,
   "metadata": {},
   "outputs": [
    {
     "data": {
      "text/plain": [
       "{'UNCvsDuke': True, 'UNCvsState': False}"
      ]
     },
     "execution_count": 1,
     "metadata": {},
     "output_type": "execute_result"
    }
   ],
   "source": [
    "# Write a function called free_biscuits\n",
    "# Given a dictionary with str keys (representing basketball games)\n",
    "# and list[int] values (representing points scored by players)\n",
    "# free_biscuits should return a new dictionary of type dict[str, bool]\n",
    "# that maps each game to a boolean value for free biscuits\n",
    "# (True if the points add up to 100+, False if otherwise)\n",
    "# Example: free_biscuits({\"UNCvsDuke\": [38, 20, 42], \"UNCvsState\": [9, 51, 16, 23]})\n",
    "# should return {\"UNCvsDuke\": True, \"UNCvsState\": False}.\n",
    "\n",
    "\n",
    "def free_biscuits(input: dict[str, list[int]]) -> dict[str, bool]:\n",
    "    \"\"\"My doc string.\"\"\"\n",
    "    result: dict[str, bool] = {}\n",
    "    # loop over each key in my input dictionary\n",
    "    for key in input:\n",
    "        # for each element of the dictionary, sum up its values\n",
    "        list_to_sum: list[int] = input[key]\n",
    "        sum: int = 0\n",
    "        # loop through list and add each value to sum\n",
    "        for element in list_to_sum:\n",
    "            sum += element\n",
    "        # if sum >= 100, store in result under key \"key\" with value True\n",
    "        if sum >= 100:\n",
    "            result[key] = True\n",
    "        else: # if not, store as False\n",
    "            result[key] = False\n",
    "    return result\n",
    "\n",
    "test: dict[str, list[int]] = {\"UNCvsDuke\": [38, 20, 42], \"UNCvsState\": [9, 51, 16, 23]}\n",
    "free_biscuits(test)"
   ]
  },
  {
   "cell_type": "markdown",
   "metadata": {},
   "source": [
    "# Function Writing Practice #2"
   ]
  },
  {
   "cell_type": "code",
   "execution_count": 2,
   "metadata": {},
   "outputs": [
    {
     "data": {
      "text/plain": [
       "'b'"
      ]
     },
     "execution_count": 2,
     "metadata": {},
     "output_type": "execute_result"
    }
   ],
   "source": [
    "def max_key(input: dict[str, list[int]]) -> str:\n",
    "    \"\"\"Returns a str with the name of the key whose list has hte highest sum of values.\"\"\"\n",
    "    # initialize variables to store max\n",
    "    max_key: str = \"\"\n",
    "    max_sum: int = 0\n",
    "    # loop through dict named \"input\"\n",
    "    for key in input:\n",
    "        compare_list: list[int] = input[key]\n",
    "        # compute sume of list\n",
    "        sum: int = 0\n",
    "        for element in compare_list:\n",
    "            sum += element\n",
    "        # if the sum of the list is higher than current max_sum, make it the new max\n",
    "        if sum > max_sum:\n",
    "            max_sum = sum\n",
    "            max_key = key\n",
    "    return max_key\n",
    "\n",
    "max_key({\"a\": [1,2,3], \"b\": [4,5,6]})\n",
    "        "
   ]
  },
  {
   "cell_type": "markdown",
   "metadata": {},
   "source": [
    "# Function Writing Practice #3"
   ]
  },
  {
   "cell_type": "code",
   "execution_count": 3,
   "metadata": {},
   "outputs": [
    {
     "data": {
      "text/plain": [
       "[True, False, False, True, True, False, True, False]"
      ]
     },
     "execution_count": 3,
     "metadata": {},
     "output_type": "execute_result"
    }
   ],
   "source": [
    "def multiples(input: list[int]) -> list[bool]:\n",
    "    \"\"\"Checks whether each number is a multiple of the previous number in the list.\"\"\"\n",
    "    multiples_list: list[bool] = []\n",
    "    i: int = 0\n",
    "    while i < len(input):\n",
    "        if i == 0:\n",
    "            multiples_list.append(input[i] % input[len(input) - 1] == 0)\n",
    "        else:\n",
    "            multiples_list.append(input[i] % input[i - 1] == 0)\n",
    "        i += 1\n",
    "    return multiples_list\n",
    "\n",
    "multiples([2, 3, 4, 8, 16, 2, 4, 2])"
   ]
  },
  {
   "cell_type": "markdown",
   "metadata": {},
   "source": [
    "# Function Writing Practice #4"
   ]
  },
  {
   "cell_type": "code",
   "execution_count": 1,
   "metadata": {},
   "outputs": [
    {
     "data": {
      "text/plain": [
       "{'blue': 5, 'yellow': 2, 'red': 4}"
      ]
     },
     "execution_count": 1,
     "metadata": {},
     "output_type": "execute_result"
    }
   ],
   "source": [
    "def merge_lists(strs: list[str], nums: list[int]) -> dict[str, int]:\n",
    "    \"\"\"Combines two parallel lists into a dictionary.\"\"\"\n",
    "    combined: dict[str, int] = {}\n",
    "\n",
    "    if len(strs) != len(nums):\n",
    "        return combined\n",
    "    \n",
    "    i: int = 0\n",
    "    while i < len(strs):\n",
    "        combined[strs[i]] = nums[i]\n",
    "        i += 1\n",
    "\n",
    "    return combined\n",
    "\n",
    "merge_lists([\"blue\", \"yellow\", \"red\"], [5, 2, 4])"
   ]
  }
 ],
 "metadata": {
  "kernelspec": {
   "display_name": "Python 3",
   "language": "python",
   "name": "python3"
  },
  "language_info": {
   "codemirror_mode": {
    "name": "ipython",
    "version": 3
   },
   "file_extension": ".py",
   "mimetype": "text/x-python",
   "name": "python",
   "nbconvert_exporter": "python",
   "pygments_lexer": "ipython3",
   "version": "3.11.4"
  },
  "orig_nbformat": 4
 },
 "nbformat": 4,
 "nbformat_minor": 2
}
