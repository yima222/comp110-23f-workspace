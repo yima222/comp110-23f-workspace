{
 "cells": [
  {
   "cell_type": "markdown",
   "metadata": {},
   "source": [
    "# Function Writing #1- free_biscuits"
   ]
  },
  {
   "cell_type": "code",
   "execution_count": null,
   "metadata": {},
   "outputs": [],
   "source": [
    "def free_biscuits(input: dict[str, list[int]]) -> dict[str, bool]:\n",
    "    \"\"\"\"Maps each game to bool for free biscuits, True if >= 100.\"\"\"\n",
    "    result: dict[str, bool] = {}\n",
    "    for key in input:\n",
    "        sum_list: list[int] = input[key]\n",
    "        sum: int = 0\n",
    "        idx: int = 0\n",
    "        while idx < len(sum_list):\n",
    "            sum += sum_list[idx]\n",
    "            idx += 1\n",
    "        if sum >= 100:\n",
    "            result[key] = True\n",
    "        else:\n",
    "            result[key] = False\n",
    "    return result\n",
    "\n",
    "free_biscuits({\"UNCvsDuke\": [38, 20, 42], \"UNCvsState\": [9, 51, 16, 23]})"
   ]
  },
  {
   "cell_type": "markdown",
   "metadata": {},
   "source": [
    "# Function Writing #2- max_key"
   ]
  },
  {
   "cell_type": "code",
   "execution_count": null,
   "metadata": {},
   "outputs": [],
   "source": [
    "def max_key(input: dict[str, list[int]]) -> str:\n",
    "    \"\"\"Returns the name of the key whose list has the highest sum of value.\"\"\"\n",
    "    max_key: str = \"\"\n",
    "    max_sum: int = 0\n",
    "    for key in input:\n",
    "        sum_list: list[int] = input[key]\n",
    "        sum: int = 0\n",
    "        for num in sum_list:\n",
    "            sum += num\n",
    "        if sum > max_sum:\n",
    "            max_sum = sum\n",
    "            max_key = key\n",
    "    return max_key\n",
    "\n",
    "max_key({\"a\": [1,2,3], \"b\": [4,5,6]})"
   ]
  },
  {
   "cell_type": "markdown",
   "metadata": {},
   "source": [
    "# Function Writing #3 multiples"
   ]
  },
  {
   "cell_type": "code",
   "execution_count": null,
   "metadata": {},
   "outputs": [],
   "source": [
    "def multiples(input: list[int]) -> list[bool]:\n",
    "    \"\"\"Tells whether each int value is a multiple of the previous value.\"\"\"\n",
    "    multiples_list: list[bool] = []\n",
    "    idx: int = 0\n",
    "    if input[idx] % input[len(input) - 1] == 0:\n",
    "        multiples_list.append(True)\n",
    "    else:\n",
    "        multiples_list.append(False)\n",
    "    idx += 1\n",
    "    while idx < len(input):\n",
    "        if input[idx] % input[idx - 1] == 0:\n",
    "            multiples_list.append(True)\n",
    "        else:\n",
    "            multiples_list.append(False)\n",
    "        idx += 1\n",
    "    return multiples_list\n",
    "\n",
    "multiples([2, 3, 4, 8, 16, 2, 4, 2])"
   ]
  },
  {
   "cell_type": "markdown",
   "metadata": {},
   "source": [
    "# Function Writing #4 merge_lists"
   ]
  },
  {
   "cell_type": "code",
   "execution_count": null,
   "metadata": {},
   "outputs": [],
   "source": [
    "def merge_lists(key: list[str], value: list[int]) -> dict[str, int]:\n",
    "    \"\"\"Creates a dictonary that maps each item in the first list to its corresponding item in the second list.\"\"\"\n",
    "    merged_dictionary: dict[str, int] = {}\n",
    "    if len(key) != len(value):\n",
    "        merged_dictionary = {}\n",
    "    else:\n",
    "        for idx in range(0, len(value)):\n",
    "            merged_dictionary[key[idx]] = value[idx]\n",
    "    return merged_dictionary\n",
    "\n",
    "merge_lists([\"blue\", \"yellow\", \"red\"], [5, 2, 4])"
   ]
  },
  {
   "cell_type": "markdown",
   "metadata": {},
   "source": [
    "# Function Writing #5 reverse_multiply"
   ]
  },
  {
   "cell_type": "code",
   "execution_count": 3,
   "metadata": {},
   "outputs": [
    {
     "data": {
      "text/plain": [
       "[6, 4, 2]"
      ]
     },
     "execution_count": 3,
     "metadata": {},
     "output_type": "execute_result"
    }
   ],
   "source": [
    "def reverse_multiply(original: list[int]) -> list[int]:\n",
    "    \"\"\"\"Multiplies values in original by 2 and in reverse order.\"\"\"\n",
    "    result: list[int] = []\n",
    "    idx: int = (len(original) - 1)\n",
    "    while idx >= 0:\n",
    "        original[idx] *= 2\n",
    "        result.append(original[idx])\n",
    "        idx -= 1\n",
    "    return result\n",
    "\n",
    "reverse_multiply([1, 2, 3])"
   ]
  },
  {
   "cell_type": "code",
   "execution_count": 9,
   "metadata": {},
   "outputs": [
    {
     "data": {
      "text/plain": [
       "{'star': 3, 'house': 2, 'candycane': 2}"
      ]
     },
     "execution_count": 9,
     "metadata": {},
     "output_type": "execute_result"
    }
   ],
   "source": [
    "def count_cookies(cookie: dict[str, list[str]]) -> dict[str, int]:\n",
    "    \"\"\"Get count of cookie shapes.\"\"\"\n",
    "    shape_count: dict[str, int] = {}\n",
    "    for box in cookie:\n",
    "        cookie_list: list[str] = cookie[box]\n",
    "        for cookies in cookie_list:\n",
    "            if cookies in shape_count:\n",
    "                shape_count[cookies] += 1\n",
    "            else:\n",
    "                shape_count[cookies] = 1\n",
    "    return shape_count\n",
    "\n",
    "item: dict[str, list[str]] = {\"box1\": [\"star\", \"house\", \"candycane\"], \"box2\": [\"star\", \"star\", \"house\", \"candycane\"]}\n",
    "count_cookies(item)\n",
    "\n"
   ]
  },
  {
   "cell_type": "code",
   "execution_count": 10,
   "metadata": {},
   "outputs": [
    {
     "data": {
      "text/plain": [
       "{'star': 3, 'house': 2, 'candycane': 2}"
      ]
     },
     "execution_count": 10,
     "metadata": {},
     "output_type": "execute_result"
    }
   ],
   "source": [
    "def count_cookies(input: dict[str, list[str]]) -> dict[str, int]:\n",
    "    \"\"\"Get count of cookie shapes.\"\"\"\n",
    "    result: dict[str, int] = {}\n",
    "    for key in input:\n",
    "        for shape in input[key]:\n",
    "            if shape in result:\n",
    "                result[shape] += 1\n",
    "            else:\n",
    "                result[shape] = 1\n",
    "    return result\n",
    "\n",
    "item: dict[str, list[str]] = {\"box1\": [\"star\", \"house\", \"candycane\"], \"box2\": [\"star\", \"house\", \"candycane\", \"star\"]}\n",
    "count_cookies(item)"
   ]
  }
 ],
 "metadata": {
  "kernelspec": {
   "display_name": "Python 3",
   "language": "python",
   "name": "python3"
  },
  "language_info": {
   "codemirror_mode": {
    "name": "ipython",
    "version": 3
   },
   "file_extension": ".py",
   "mimetype": "text/x-python",
   "name": "python",
   "nbconvert_exporter": "python",
   "pygments_lexer": "ipython3",
   "version": "3.11.4"
  },
  "orig_nbformat": 4
 },
 "nbformat": 4,
 "nbformat_minor": 2
}
